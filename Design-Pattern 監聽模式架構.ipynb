{
 "cells": [
  {
   "cell_type": "code",
   "execution_count": 1,
   "metadata": {},
   "outputs": [],
   "source": [
    "from abc import ABCMeta , abstractmethod\n",
    "#了解情境　\n",
    "\n",
    "#__ private access 只能透過同class裡面定義的方法才能修改內容\n",
    "\n",
    "class WaterHeater:\n",
    "    \n",
    "    def __init__(self):\n",
    "        self.__observers= [] # 初始化定義模式的觀察者容器\n",
    "        self.__temperature = 25\n",
    "    \n",
    "    def getTemperature(self):\n",
    "        return self.__temperature\n",
    "    \n",
    "    def setTemperature(self, temperature):\n",
    "        self.__temperature = temperature\n",
    "        print('當前的溫度是:' + str(self.__temperature) + \".C\")\n",
    "        self.notifies() \n",
    "        \n",
    "    def addObserver(self, observer):\n",
    "        self.__observers.append(observer)\n",
    "    \n",
    "    def notifies(self):\n",
    "        for o in self.__observers: # self.__observers 由觀察者class定義的object所組成\n",
    "            o.update(self) # update函數的意義\n",
    "            \n",
    "\n",
    "\n",
    "\n",
    "class Observer(metaclass = ABCMeta):\n",
    "    \"\"\"洗澡模式和飲用水模式的父類\"\"\"\n",
    "    \n",
    "    #abstractmethod 抽像化的behavior\n",
    "    def update(self, waterHeater):\n",
    "        pass\n",
    "    \n",
    "class WashingMode(Observer):\n",
    "    \n",
    "    def update(self, waterHeater):\n",
    "        if (waterHeater.getTemperature() >= 50) & (waterHeater.getTemperature() < 70):\n",
    "            print(\"水已燒開! 溫度適中，可以用來洗澡了~\")\n",
    "            \n",
    "class DrinkingMode(Observer):\n",
    "    \n",
    "    def update(self, waterHeater):\n",
    "        if waterHeater.getTemperature() >= 100:\n",
    "            print('水以煮沸~可以用來飲用了~')\n",
    "\n",
    "            "
   ]
  },
  {
   "cell_type": "markdown",
   "metadata": {},
   "source": [
    "### 測試代碼\n"
   ]
  },
  {
   "cell_type": "code",
   "execution_count": 27,
   "metadata": {},
   "outputs": [],
   "source": [
    "def testWaterHeater():\n",
    "    heater = WaterHeater()\n",
    "    washingObserver = WashingMode()\n",
    "    drinkingObserver = DrinkingMode()\n",
    "    heater.addObserver(washingObserver)\n",
    "    heater.addObserver(drinkingObserver)\n",
    "    heater.setTemperature(40)\n",
    "    heater.setTemperature(60)\n",
    "    heater.setTemperature(100)"
   ]
  },
  {
   "cell_type": "code",
   "execution_count": 28,
   "metadata": {},
   "outputs": [
    {
     "name": "stdout",
     "output_type": "stream",
     "text": [
      "當前的溫度是:40.C\n",
      "當前的溫度是:60.C\n",
      "水已燒開! 溫度適中，可以用來洗澡了~\n",
      "當前的溫度是:100.C\n",
      "水以煮沸~可以用來飲用了~\n"
     ]
    }
   ],
   "source": [
    " testWaterHeater()"
   ]
  },
  {
   "cell_type": "markdown",
   "metadata": {},
   "source": [
    "## 觀察者核心建築架構 :"
   ]
  },
  {
   "cell_type": "code",
   "execution_count": 7,
   "metadata": {},
   "outputs": [],
   "source": [
    "from abc import ABCMeta, abstractmethod\n",
    "\n",
    "class Observer(metaclass = ABCMeta):\n",
    "    \"\"\"觀察者的基本類型\"\"\"\n",
    "    \n",
    "    # abstract method:\n",
    "    \n",
    "    def update(self, observable, object):\n",
    "        pass\n",
    "    \n",
    "class Observable:\n",
    "    \n",
    "    def __init__(self):\n",
    "        self.__observers = []\n",
    "            \n",
    "    def addObserver(self, observer):\n",
    "        self.__observers.append(observer)\n",
    "    \n",
    "    def removeObserver(self, observer):\n",
    "        self__observers.remove(observer)\n",
    "        \n",
    "                        #object是要被觀察的物件\n",
    "    def notifyObservers(self,object):\n",
    "        for o in self.__observers:\n",
    "            o.update(self, object)\n",
    "            "
   ]
  },
  {
   "cell_type": "markdown",
   "metadata": {},
   "source": [
    "### 基於以上的框架實現 : 需先執行以上的代碼"
   ]
  },
  {
   "cell_type": "code",
   "execution_count": 8,
   "metadata": {},
   "outputs": [],
   "source": [
    "class WaterHeater(Observable):\n",
    "    \n",
    "    \n",
    "    def __init__(self):\n",
    "        super().__init__()\n",
    "        self.__temperature = 25\n",
    "        \n",
    "    def getTemperature(self):\n",
    "        return self.__temperature\n",
    "    \n",
    "    def setTemperature(self, temperature):\n",
    "        self.__temperature = temperature\n",
    "        print('當前的溫度是:' + str(self.__temperature) + '度C')\n",
    "        self.notifyObservers()\n",
    "        \n",
    "class WashingMode(Observer): #繼承父類\n",
    "        \n",
    "    def update(self, observable, object): #如果觀察的對象是WaterHeater的一種\n",
    "        if isinstance(observable, WaterHeater) and (observable.getTemperature() >= 50) and (observable.getTemperature() < 70) :\n",
    "            \n",
    "            print('水已燒好！溫度正好可以洗澡')\n",
    "\n",
    "class DrinkingMode(Observer):\n",
    "    \n",
    "    def update(self, observable, object):\n",
    "        if isinstance(observable, WaterHeater) and observable.getTemperature() >= 100:\n",
    "            print(\"水已經燒開！可以用來飲用了\")\n",
    "                \n",
    "    "
   ]
  },
  {
   "cell_type": "code",
   "execution_count": null,
   "metadata": {},
   "outputs": [],
   "source": []
  }
 ],
 "metadata": {
  "kernelspec": {
   "display_name": "Python 3",
   "language": "python",
   "name": "python3"
  },
  "language_info": {
   "codemirror_mode": {
    "name": "ipython",
    "version": 3
   },
   "file_extension": ".py",
   "mimetype": "text/x-python",
   "name": "python",
   "nbconvert_exporter": "python",
   "pygments_lexer": "ipython3",
   "version": "3.6.5"
  }
 },
 "nbformat": 4,
 "nbformat_minor": 2
}
