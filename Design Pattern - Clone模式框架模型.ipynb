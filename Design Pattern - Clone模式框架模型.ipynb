{
 "cells": [
  {
   "cell_type": "markdown",
   "metadata": {},
   "source": [
    "### Design Pattern - 克隆模式框架模型 :\n",
    "\n",
    "設計思想 :\n",
    "\n",
    "用原型實例指定要創建對象的種類，並通過拷貝這些原型的屬性來創建新的物件對象\n",
    "\n",
    "1.分配一塊新的內存空間給新的對象\n",
    "\n",
    "2.拷貝父物件的所有屬性"
   ]
  },
  {
   "cell_type": "code",
   "execution_count": 1,
   "metadata": {},
   "outputs": [],
   "source": [
    "from copy import copy, deepcopy"
   ]
  },
  {
   "cell_type": "code",
   "execution_count": 2,
   "metadata": {},
   "outputs": [],
   "source": [
    "class Clone:\n",
    "    \"\"\"複製的基礎類別\"\"\"\n",
    "    \n",
    "    def clone(self):\n",
    "        \"\"\"淺拷貝方式的對象\"\"\"\n",
    "        return copy(self)\n",
    "    def deepClone(self):\n",
    "        \"\"\"深拷貝方式的對象\"\"\"\n",
    "        return deepcopy(self)"
   ]
  },
  {
   "cell_type": "markdown",
   "metadata": {},
   "source": [
    "### 基於框架的實現 :"
   ]
  },
  {
   "cell_type": "code",
   "execution_count": 17,
   "metadata": {},
   "outputs": [],
   "source": [
    "class Person(Clone):\n",
    "    \"\"\"人\"\"\"\n",
    "    \n",
    "    def __init__(self, name, age):\n",
    "        self.__name = name\n",
    "        self.__age = age\n",
    "    def showMyself(self):\n",
    "        print(\"我是\" + self.__name + \",年齡\" + str(self.__age) + \".\")\n",
    "    def coding(self):\n",
    "        print(\"我是數據科學家，我用數據科學語言探索世界的真理\")\n",
    "        \n",
    "    def reading(self):\n",
    "        print(\"閱讀使我快樂，知識使我成長\")\n",
    "        \n",
    "    def listening(self):\n",
    "        print(\"聽音樂使我產生心流，忘卻壓力\")\n",
    "    \n",
    "    def clone(self):\n",
    "        return copy(self)\n",
    "    "
   ]
  },
  {
   "cell_type": "code",
   "execution_count": 18,
   "metadata": {},
   "outputs": [],
   "source": [
    "def testclone():\n",
    "    tony = Person('Ocean', 20)\n",
    "    tony.showMyself()\n",
    "    tony.coding()\n",
    "    print()\n",
    "    \n",
    "    tony1 = tony.clone()\n",
    "    tony1.showMyself()\n",
    "    tony1.reading()\n",
    "    print()\n",
    "    \n",
    "    tony2 = tony.clone()\n",
    "    tony2.showMyself()\n",
    "    tony2.listening()\n",
    "    print()    "
   ]
  },
  {
   "cell_type": "code",
   "execution_count": 19,
   "metadata": {},
   "outputs": [
    {
     "name": "stdout",
     "output_type": "stream",
     "text": [
      "我是Ocean,年齡20.\n",
      "我是數據科學家，我用數據科學語言探索世界的真理\n",
      "\n",
      "我是Ocean,年齡20.\n",
      "閱讀使我快樂，知識使我成長\n",
      "\n",
      "我是Ocean,年齡20.\n",
      "聽音樂使我產生心流，忘卻壓力\n",
      "\n"
     ]
    }
   ],
   "source": [
    "testclone()"
   ]
  },
  {
   "cell_type": "code",
   "execution_count": null,
   "metadata": {},
   "outputs": [],
   "source": []
  }
 ],
 "metadata": {
  "kernelspec": {
   "display_name": "Python 3",
   "language": "python",
   "name": "python3"
  },
  "language_info": {
   "codemirror_mode": {
    "name": "ipython",
    "version": 3
   },
   "file_extension": ".py",
   "mimetype": "text/x-python",
   "name": "python",
   "nbconvert_exporter": "python",
   "pygments_lexer": "ipython3",
   "version": "3.6.5"
  }
 },
 "nbformat": 4,
 "nbformat_minor": 2
}
